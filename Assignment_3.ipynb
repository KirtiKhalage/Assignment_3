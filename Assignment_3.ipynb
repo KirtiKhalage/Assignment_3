{
 "cells": [
  {
   "cell_type": "markdown",
   "id": "5577b7a7",
   "metadata": {},
   "source": [
    "# Q1. Write a Python function to sum all the numbers in a list.\n",
    "\n"
   ]
  },
  {
   "cell_type": "code",
   "execution_count": 1,
   "id": "3c8716fb",
   "metadata": {},
   "outputs": [
    {
     "name": "stdout",
     "output_type": "stream",
     "text": [
      "20\n"
     ]
    }
   ],
   "source": [
    "def sum_num(a):\n",
    "    sn = 0\n",
    "    for u in a:\n",
    "        sn = sn + u\n",
    "    return sn\n",
    "print(sum_num((8,2,3,0,7)))"
   ]
  },
  {
   "cell_type": "markdown",
   "id": "e34e8e78",
   "metadata": {},
   "source": [
    "# Q2. Write a Python program to reverse a string.\n",
    "\n",
    "\n",
    "\n"
   ]
  },
  {
   "cell_type": "code",
   "execution_count": 2,
   "id": "99d1da72",
   "metadata": {},
   "outputs": [
    {
     "name": "stdout",
     "output_type": "stream",
     "text": [
      "dcba4321\n"
     ]
    }
   ],
   "source": [
    "def rev(a):\n",
    "    s = a[::-1]\n",
    "    return s\n",
    "print(rev(\"1234abcd\"))"
   ]
  },
  {
   "cell_type": "markdown",
   "id": "711db8b3",
   "metadata": {},
   "source": [
    "# Q3. Write a Python function that accepts a string and calculate the number of upper case letters and lower case letters.\n",
    "\n"
   ]
  },
  {
   "cell_type": "code",
   "execution_count": 3,
   "id": "1d7f1d6f",
   "metadata": {},
   "outputs": [
    {
     "name": "stdout",
     "output_type": "stream",
     "text": [
      "Enter a string:The quick Brow Fox\n",
      "The sample string is: The quick Brow Fox\n",
      "Number of upper case charachters: 3\n",
      "Number of lower case charachters: 12\n"
     ]
    }
   ],
   "source": [
    "def words(g):\n",
    "    count_upper = 0\n",
    "    count_lower = 0\n",
    "    for word in range(len(g)):\n",
    "        if g[word].isupper():\n",
    "            count_upper = count_upper + 1\n",
    "        elif g[word].islower and not g[word].isspace(): \n",
    "            count_lower =  count_lower +1\n",
    "    return count_upper,count_lower\n",
    "s = str(input(\"Enter a string:\"))\n",
    "print(\"The sample string is:\",s)\n",
    "print(\"Number of upper case charachters:\",words(s)[0])\n",
    "print(\"Number of lower case charachters:\",words(s)[1])"
   ]
  }
 ],
 "metadata": {
  "kernelspec": {
   "display_name": "Python 3 (ipykernel)",
   "language": "python",
   "name": "python3"
  },
  "language_info": {
   "codemirror_mode": {
    "name": "ipython",
    "version": 3
   },
   "file_extension": ".py",
   "mimetype": "text/x-python",
   "name": "python",
   "nbconvert_exporter": "python",
   "pygments_lexer": "ipython3",
   "version": "3.9.13"
  }
 },
 "nbformat": 4,
 "nbformat_minor": 5
}
